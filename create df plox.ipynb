{
 "cells": [
  {
   "cell_type": "code",
   "execution_count": 4,
   "metadata": {},
   "outputs": [],
   "source": [
    "import glob\n",
    "import os\n",
    "import pandas as pd\n",
    "import numpy as np"
   ]
  },
  {
   "cell_type": "markdown",
   "metadata": {},
   "source": [
    "#### load files into juicy df"
   ]
  },
  {
   "cell_type": "code",
   "execution_count": 20,
   "metadata": {},
   "outputs": [],
   "source": [
    "files = glob.glob(\"C:/Users/Alicja/Documents/GitHub/cry_baby/data/android/*.3gp\")"
   ]
  },
  {
   "cell_type": "code",
   "execution_count": 47,
   "metadata": {},
   "outputs": [],
   "source": [
    "mydf = pd.DataFrame(files).rename(columns={0: \"filename\"})"
   ]
  },
  {
   "cell_type": "code",
   "execution_count": 48,
   "metadata": {},
   "outputs": [
    {
     "data": {
      "text/html": [
       "<div>\n",
       "<style>\n",
       "    .dataframe thead tr:only-child th {\n",
       "        text-align: right;\n",
       "    }\n",
       "\n",
       "    .dataframe thead th {\n",
       "        text-align: left;\n",
       "    }\n",
       "\n",
       "    .dataframe tbody tr th {\n",
       "        vertical-align: top;\n",
       "    }\n",
       "</style>\n",
       "<table border=\"1\" class=\"dataframe\">\n",
       "  <thead>\n",
       "    <tr style=\"text-align: right;\">\n",
       "      <th></th>\n",
       "      <th>filename</th>\n",
       "    </tr>\n",
       "  </thead>\n",
       "  <tbody>\n",
       "    <tr>\n",
       "      <th>0</th>\n",
       "      <td>C:/Users/Alicja/Documents/GitHub/cry_baby/data...</td>\n",
       "    </tr>\n",
       "    <tr>\n",
       "      <th>1</th>\n",
       "      <td>C:/Users/Alicja/Documents/GitHub/cry_baby/data...</td>\n",
       "    </tr>\n",
       "    <tr>\n",
       "      <th>2</th>\n",
       "      <td>C:/Users/Alicja/Documents/GitHub/cry_baby/data...</td>\n",
       "    </tr>\n",
       "    <tr>\n",
       "      <th>3</th>\n",
       "      <td>C:/Users/Alicja/Documents/GitHub/cry_baby/data...</td>\n",
       "    </tr>\n",
       "    <tr>\n",
       "      <th>4</th>\n",
       "      <td>C:/Users/Alicja/Documents/GitHub/cry_baby/data...</td>\n",
       "    </tr>\n",
       "  </tbody>\n",
       "</table>\n",
       "</div>"
      ],
      "text/plain": [
       "                                            filename\n",
       "0  C:/Users/Alicja/Documents/GitHub/cry_baby/data...\n",
       "1  C:/Users/Alicja/Documents/GitHub/cry_baby/data...\n",
       "2  C:/Users/Alicja/Documents/GitHub/cry_baby/data...\n",
       "3  C:/Users/Alicja/Documents/GitHub/cry_baby/data...\n",
       "4  C:/Users/Alicja/Documents/GitHub/cry_baby/data..."
      ]
     },
     "execution_count": 48,
     "metadata": {},
     "output_type": "execute_result"
    }
   ],
   "source": [
    "mydf.head()"
   ]
  },
  {
   "cell_type": "code",
   "execution_count": 49,
   "metadata": {},
   "outputs": [],
   "source": [
    "mydf_split = mydf['filename'].str.split('-', expand=True).rename(columns=lambda x: f\"string_{x+1}\")"
   ]
  },
  {
   "cell_type": "code",
   "execution_count": 50,
   "metadata": {},
   "outputs": [
    {
     "data": {
      "text/html": [
       "<div>\n",
       "<style>\n",
       "    .dataframe thead tr:only-child th {\n",
       "        text-align: right;\n",
       "    }\n",
       "\n",
       "    .dataframe thead th {\n",
       "        text-align: left;\n",
       "    }\n",
       "\n",
       "    .dataframe tbody tr th {\n",
       "        vertical-align: top;\n",
       "    }\n",
       "</style>\n",
       "<table border=\"1\" class=\"dataframe\">\n",
       "  <thead>\n",
       "    <tr style=\"text-align: right;\">\n",
       "      <th></th>\n",
       "      <th>string_1</th>\n",
       "      <th>string_2</th>\n",
       "      <th>string_3</th>\n",
       "      <th>string_4</th>\n",
       "      <th>string_5</th>\n",
       "      <th>string_6</th>\n",
       "      <th>string_7</th>\n",
       "      <th>string_8</th>\n",
       "      <th>string_9</th>\n",
       "      <th>string_10</th>\n",
       "    </tr>\n",
       "  </thead>\n",
       "  <tbody>\n",
       "    <tr>\n",
       "      <th>0</th>\n",
       "      <td>C:/Users/Alicja/Documents/GitHub/cry_baby/data...</td>\n",
       "      <td>715a</td>\n",
       "      <td>46ee</td>\n",
       "      <td>b592</td>\n",
       "      <td>1c4e7affb788</td>\n",
       "      <td>1430218353124</td>\n",
       "      <td>1.7</td>\n",
       "      <td>f</td>\n",
       "      <td>26</td>\n",
       "      <td>hu.3gp</td>\n",
       "    </tr>\n",
       "    <tr>\n",
       "      <th>1</th>\n",
       "      <td>C:/Users/Alicja/Documents/GitHub/cry_baby/data...</td>\n",
       "      <td>513d</td>\n",
       "      <td>4431</td>\n",
       "      <td>b7ba</td>\n",
       "      <td>b0fba5a00908</td>\n",
       "      <td>1430339263195</td>\n",
       "      <td>1.7</td>\n",
       "      <td>m</td>\n",
       "      <td>04</td>\n",
       "      <td>hu.3gp</td>\n",
       "    </tr>\n",
       "    <tr>\n",
       "      <th>2</th>\n",
       "      <td>C:/Users/Alicja/Documents/GitHub/cry_baby/data...</td>\n",
       "      <td>26e4</td>\n",
       "      <td>4a2c</td>\n",
       "      <td>9336</td>\n",
       "      <td>04ddc58836d9</td>\n",
       "      <td>1430726196216</td>\n",
       "      <td>1.7</td>\n",
       "      <td>m</td>\n",
       "      <td>04</td>\n",
       "      <td>hu.3gp</td>\n",
       "    </tr>\n",
       "    <tr>\n",
       "      <th>3</th>\n",
       "      <td>C:/Users/Alicja/Documents/GitHub/cry_baby/data...</td>\n",
       "      <td>aa02</td>\n",
       "      <td>453e</td>\n",
       "      <td>8b83</td>\n",
       "      <td>6ebde9fe7551</td>\n",
       "      <td>1430233132879</td>\n",
       "      <td>1.7</td>\n",
       "      <td>m</td>\n",
       "      <td>26</td>\n",
       "      <td>hu.3gp</td>\n",
       "    </tr>\n",
       "    <tr>\n",
       "      <th>4</th>\n",
       "      <td>C:/Users/Alicja/Documents/GitHub/cry_baby/data...</td>\n",
       "      <td>aa02</td>\n",
       "      <td>453e</td>\n",
       "      <td>8b83</td>\n",
       "      <td>6ebde9fe7551</td>\n",
       "      <td>1430233150868</td>\n",
       "      <td>1.7</td>\n",
       "      <td>m</td>\n",
       "      <td>26</td>\n",
       "      <td>hu.3gp</td>\n",
       "    </tr>\n",
       "  </tbody>\n",
       "</table>\n",
       "</div>"
      ],
      "text/plain": [
       "                                            string_1 string_2 string_3  \\\n",
       "0  C:/Users/Alicja/Documents/GitHub/cry_baby/data...     715a     46ee   \n",
       "1  C:/Users/Alicja/Documents/GitHub/cry_baby/data...     513d     4431   \n",
       "2  C:/Users/Alicja/Documents/GitHub/cry_baby/data...     26e4     4a2c   \n",
       "3  C:/Users/Alicja/Documents/GitHub/cry_baby/data...     aa02     453e   \n",
       "4  C:/Users/Alicja/Documents/GitHub/cry_baby/data...     aa02     453e   \n",
       "\n",
       "  string_4      string_5       string_6 string_7 string_8 string_9 string_10  \n",
       "0     b592  1c4e7affb788  1430218353124      1.7        f       26    hu.3gp  \n",
       "1     b7ba  b0fba5a00908  1430339263195      1.7        m       04    hu.3gp  \n",
       "2     9336  04ddc58836d9  1430726196216      1.7        m       04    hu.3gp  \n",
       "3     8b83  6ebde9fe7551  1430233132879      1.7        m       26    hu.3gp  \n",
       "4     8b83  6ebde9fe7551  1430233150868      1.7        m       26    hu.3gp  "
      ]
     },
     "execution_count": 50,
     "metadata": {},
     "output_type": "execute_result"
    }
   ],
   "source": [
    "mydf_split.head()"
   ]
  },
  {
   "cell_type": "code",
   "execution_count": 55,
   "metadata": {},
   "outputs": [],
   "source": [
    "mydf_clean = mydf_split.drop(['string_2', 'string_3', 'string_4', 'string_5', 'string_6', 'string_7'], axis=1).rename(columns={\"string_1\":\"filename\", \"string_8\":\"gender\", \"string_9\":\"age\", \"string_10\":\"reason\"})"
   ]
  },
  {
   "cell_type": "code",
   "execution_count": 75,
   "metadata": {},
   "outputs": [],
   "source": [
    "mydf_clean['reason'] = [mydf_clean['reason'][i].split('.',1)[0] for i in range(len(mydf_clean['reason']))]"
   ]
  },
  {
   "cell_type": "code",
   "execution_count": 79,
   "metadata": {},
   "outputs": [
    {
     "data": {
      "text/html": [
       "<div>\n",
       "<style>\n",
       "    .dataframe thead tr:only-child th {\n",
       "        text-align: right;\n",
       "    }\n",
       "\n",
       "    .dataframe thead th {\n",
       "        text-align: left;\n",
       "    }\n",
       "\n",
       "    .dataframe tbody tr th {\n",
       "        vertical-align: top;\n",
       "    }\n",
       "</style>\n",
       "<table border=\"1\" class=\"dataframe\">\n",
       "  <thead>\n",
       "    <tr style=\"text-align: right;\">\n",
       "      <th></th>\n",
       "      <th>filename</th>\n",
       "      <th>gender</th>\n",
       "      <th>age</th>\n",
       "      <th>reason</th>\n",
       "    </tr>\n",
       "  </thead>\n",
       "  <tbody>\n",
       "    <tr>\n",
       "      <th>count</th>\n",
       "      <td>712</td>\n",
       "      <td>712</td>\n",
       "      <td>712</td>\n",
       "      <td>712</td>\n",
       "    </tr>\n",
       "    <tr>\n",
       "      <th>unique</th>\n",
       "      <td>261</td>\n",
       "      <td>2</td>\n",
       "      <td>5</td>\n",
       "      <td>9</td>\n",
       "    </tr>\n",
       "    <tr>\n",
       "      <th>top</th>\n",
       "      <td>C:/Users/Alicja/Documents/GitHub/cry_baby/data...</td>\n",
       "      <td>m</td>\n",
       "      <td>04</td>\n",
       "      <td>hu</td>\n",
       "    </tr>\n",
       "    <tr>\n",
       "      <th>freq</th>\n",
       "      <td>25</td>\n",
       "      <td>414</td>\n",
       "      <td>257</td>\n",
       "      <td>485</td>\n",
       "    </tr>\n",
       "  </tbody>\n",
       "</table>\n",
       "</div>"
      ],
      "text/plain": [
       "                                                 filename gender  age reason\n",
       "count                                                 712    712  712    712\n",
       "unique                                                261      2    5      9\n",
       "top     C:/Users/Alicja/Documents/GitHub/cry_baby/data...      m   04     hu\n",
       "freq                                                   25    414  257    485"
      ]
     },
     "execution_count": 79,
     "metadata": {},
     "output_type": "execute_result"
    }
   ],
   "source": [
    "mydf_clean.describe()"
   ]
  }
 ],
 "metadata": {
  "kernelspec": {
   "display_name": "Python 3",
   "language": "python",
   "name": "python3"
  },
  "language_info": {
   "codemirror_mode": {
    "name": "ipython",
    "version": 3
   },
   "file_extension": ".py",
   "mimetype": "text/x-python",
   "name": "python",
   "nbconvert_exporter": "python",
   "pygments_lexer": "ipython3",
   "version": "3.6.3"
  }
 },
 "nbformat": 4,
 "nbformat_minor": 2
}
